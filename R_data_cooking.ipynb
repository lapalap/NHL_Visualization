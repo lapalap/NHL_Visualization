{
 "cells": [
  {
   "cell_type": "code",
   "execution_count": 1,
   "metadata": {},
   "outputs": [
    {
     "ename": "ERROR",
     "evalue": "Error: package or namespace load failed for ‘tidyverse’ in dyn.load(file, DLLpath = DLLpath, ...):\n kann shared object '/Users/kirillbykov/anaconda3/lib/R/library/nlme/libs/nlme.so' nicht laden:\n  dlopen(/Users/kirillbykov/anaconda3/lib/R/library/nlme/libs/nlme.so, 6): Symbol not found: _libintl_dgettext\n  Referenced from: /Users/kirillbykov/anaconda3/lib/R/library/nlme/libs/nlme.so\n  Expected in: /Users/kirillbykov/anaconda3/lib/R/lib/libR.dylib\n in /Users/kirillbykov/anaconda3/lib/R/library/nlme/libs/nlme.so\n",
     "execution_count": 1,
     "output_type": "error",
     "traceback": [
      "Error: package or namespace load failed for ‘tidyverse’ in dyn.load(file, DLLpath = DLLpath, ...):\n kann shared object '/Users/kirillbykov/anaconda3/lib/R/library/nlme/libs/nlme.so' nicht laden:\n  dlopen(/Users/kirillbykov/anaconda3/lib/R/library/nlme/libs/nlme.so, 6): Symbol not found: _libintl_dgettext\n  Referenced from: /Users/kirillbykov/anaconda3/lib/R/library/nlme/libs/nlme.so\n  Expected in: /Users/kirillbykov/anaconda3/lib/R/lib/libR.dylib\n in /Users/kirillbykov/anaconda3/lib/R/library/nlme/libs/nlme.so\nTraceback:\n",
      "1. library(tidyverse)",
      "2. tryCatch({\n .     attr(package, \"LibPath\") <- which.lib.loc\n .     ns <- loadNamespace(package, lib.loc)\n .     env <- attachNamespace(ns, pos = pos, deps)\n . }, error = function(e) {\n .     P <- if (!is.null(cc <- conditionCall(e))) \n .         paste(\" in\", deparse(cc)[1L])\n .     else \"\"\n .     msg <- gettextf(\"package or namespace load failed for %s%s:\\n %s\", \n .         sQuote(package), P, conditionMessage(e))\n .     if (logical.return) \n .         message(paste(\"Error:\", msg), domain = NA)\n .     else stop(msg, call. = FALSE, domain = NA)\n . })",
      "3. tryCatchList(expr, classes, parentenv, handlers)",
      "4. tryCatchOne(expr, names, parentenv, handlers[[1L]])",
      "5. value[[3L]](cond)",
      "6. stop(msg, call. = FALSE, domain = NA)"
     ]
    }
   ],
   "source": [
    "library(tidyverse)\n",
    "library(lubridate)\n",
    "library(ggthemes)\n",
    "library(knitr)\n",
    "library(plotly)\n",
    "library(gridExtra)\n",
    "library(ggridges)\n",
    "\n",
    "\n",
    "PlayerInf <- read.csv(\"../data/player_info.csv\")\n",
    "Plays <- read.csv(\"../data/game_plays.csv\", stringsAsFactors = FALSE)\n",
    "Plays$dateTime <- ymd_hms(Plays$dateTime)\n",
    "Plays$Year <- as.numeric(substring(Plays$game_id,1,4))\n",
    "\n",
    "PlaysPlayers <- read.csv(\"../data/game_plays_players.csv\", stringsAsFactors = FALSE)\n",
    "\n",
    "Games <- read.csv(\"../data/game.csv\", stringsAsFactors = FALSE)\n",
    "\n",
    "Teams <- read.csv(\"../data/team_info.csv\", stringsAsFactors = FALSE)\n",
    "\n",
    "Hits <- Plays %>% filter(event == \"Hit\") %>% \n",
    "        left_join(PlaysPlayers %>% filter(playerType == \"Hitter\") %>% select(play_id, player_id), \n",
    "                  by = \"play_id\")\n",
    "\n",
    "Hits <- Hits %>% left_join(PlayerInf %>% select(player_id, firstName, lastName, primaryPosition, birthDate),\n",
    "                           by = \"player_id\")"
   ]
  }
 ],
 "metadata": {
  "kernelspec": {
   "display_name": "R",
   "language": "R",
   "name": "ir"
  },
  "language_info": {
   "codemirror_mode": "r",
   "file_extension": ".r",
   "mimetype": "text/x-r-source",
   "name": "R",
   "pygments_lexer": "r",
   "version": "3.5.1"
  }
 },
 "nbformat": 4,
 "nbformat_minor": 2
}
